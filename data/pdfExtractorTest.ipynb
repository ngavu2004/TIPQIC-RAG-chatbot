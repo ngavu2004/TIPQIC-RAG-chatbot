{
 "cells": [
  {
   "cell_type": "markdown",
   "id": "e67ba0e1",
   "metadata": {},
   "source": [
    "## PyPDFLoader"
   ]
  },
  {
   "cell_type": "code",
   "execution_count": 2,
   "id": "d1e87215",
   "metadata": {},
   "outputs": [],
   "source": [
    "file_path = \"./sources/TI2.0ProgramWelcomePacket.pdf\""
   ]
  },
  {
   "cell_type": "code",
   "execution_count": 5,
   "id": "cc352b70",
   "metadata": {},
   "outputs": [],
   "source": [
    "from langchain_community.document_loaders import PyPDFLoader\n",
    "loader = PyPDFLoader(file_path)\n",
    "pages = []\n",
    "async for page in loader.alazy_load():\n",
    "    pages.append(page)"
   ]
  },
  {
   "cell_type": "code",
   "execution_count": 6,
   "id": "bc8bf92f",
   "metadata": {},
   "outputs": [
    {
     "name": "stdout",
     "output_type": "stream",
     "text": [
      "{'producer': 'Skia/PDF m125 Google Docs Renderer', 'creator': 'PyPDF', 'creationdate': '', 'title': 'TI 2.0 Program Welcome Packet', 'source': './sources/TI2.0ProgramWelcomePacket.pdf', 'total_pages': 14, 'page': 13, 'page_label': '14'}\n",
      "\n",
      "TargetedInvestments(TI2.0)Program\n",
      "HealthPlansTargetedInvestmentsparticipatingorganizationscancontacthealthplansusingthecontactinformationbelow.UpdatedinMarch2024.\n",
      "H e a l t h P l a n ( A C C , A C C - R B H A s o n l y ) \n",
      " 1 ) R e p R e s p o n s i b l e f o r C o o r d i n a t i n g Q I C M e e t i n g A t t e n d a n c e ( P r i m a r y p o i n t o f c o n t a c t ) \n",
      " 2 ) R e p R e s p o n s i b l e f o r A s s i s t i n g T I P a r t i c i p a n t s w i t h A P M s / V B S \n",
      " 3 ) R e p R e s p o n s i b l e f o r A s s i s t i n g P C P P a r t i c i p a n t s w i t h A d d r e s s i n g P C P A s s i g n m e n t C o n c e r n s ServesasAHCCCS'primarypointofcontact,responsibleforattendingand/ortappingadelegatetoattendeachQualityImprovementCollaborative.PerACOM325,arepresentativefromeachPlanmustattendeachQICsessiontoearnfulladminfundingintheyear.\n",
      "AssistsTIparticipantswithcreatingorotherwisemanagingtheirAlternativePayment/ValueBasedServicearrangements.\n",
      "AssistsPCPswithreconcilingPCPassignmentpanelsorotherwiseexplaininghowPCPassignmentisgeneratedandreconciledwithclaimsandtheproviderscurrentlyworkingattheclinic.\n",
      "M C P KuklishS@mercycareaz.org KuklishS@mercycareaz.org GannonE@mercycareaz.orgM C P - R B H A KuklishS@mercycareaz.org KuklishS@mercycareaz.org GannonE@mercycareaz.org\n",
      "A z C H \n",
      " AngelaBurzynskiAngela.C.Burzynski@azcompletehealth.com\n",
      "JeniferReganJenifer.Regan@azcompletehealth.com\n",
      "Emailrequest(withTINandPracticeName)toKarinUhlich:kuhlich@azcompletehealth.com\n",
      "A z C H - R B H A \n",
      " AngelaBurzynskiAngela.C.Burzynski@azcompletehealth.com\n",
      "JeniferReganJenifer.Regan@azcompletehealth.com\n",
      "Emailrequest(withTINandPracticeName)toKarinUhlich:kuhlich@azcompletehealth.com\n",
      "B U F C \n",
      " AlisonMellEmail:Alison.Mell@bannerhealth.com MarcelaRuizEmail:marcela.ruiz@bannerhealth.com\n",
      "SusanGilkeyEmail:susan.gilkey@bannerhealth.com\n",
      "C R F \n",
      " Angela.C.Burzynski@azcompletehealth.com MJimenez@care1staz.com Emailrequest(withTINandPracticeName)toAssignedNetworkManagementRepordedicatedinbox:sm_az_pno@care1staz.com;CCheesman@care1staz.com\n",
      "H C A \n",
      " amanda.pizzolanti@azblue.com;Jordan.Wilkins@azblue.com;hch.deliverables@azblue.com\n",
      "amanda.pizzolanti@azblue.com;Jordan.Wilkins@azblue.com;hch.deliverables@azblue.com\n",
      "amanda.pizzolanti@azblue.com;Jordan.Wilkins@azblue.com;hch.deliverables@azblue.comU H C \n",
      " Lucy_Lonberger@uhc.com Kris_e_moe@uhc.com AZ_Events@uhc.com\n",
      "M C C \n",
      " jenny.starbuck@molinahealthcare.com ryan.ouimette@molinahealthcare.com kelley.pavkov@molinahealthcare.com\n",
      "Page14LastUpdated:April8,2024\n"
     ]
    }
   ],
   "source": [
    "print(f\"{pages[-1].metadata}\\n\")\n",
    "print(pages[-1].page_content)"
   ]
  },
  {
   "cell_type": "markdown",
   "id": "8bad41b4",
   "metadata": {},
   "source": [
    "## PDFPlumber"
   ]
  },
  {
   "cell_type": "code",
   "execution_count": 8,
   "id": "7ed5e779",
   "metadata": {},
   "outputs": [
    {
     "data": {
      "text/plain": [
       "'Targeted Investments (TI 2.0) Program\\nTargeted Investments Program: Quality Improvement Collaborative\\n(TIPQIC)\\nOverview\\nTheTargetedInvestmentsProgramQualityImprovementCollaborative(TIPQIC)isacollaborationbetween\\ntheAHCCCSTargetedInvestments(TI2.0)teamandArizonaStateUniversity(ASU)withthegoalofhelpingTI\\nparticipatingorganizationsmanageandimprovetheirperformanceonincentivizedmeasures.Formore\\ninformation,pleasevisittheTIPQICwebsite:tipqic.org.TheTIPQICteamcanbecontactedbyemailing\\nTIPQIC@asu.edu.\\nThequalityimprovement,datascience,andclinicalinformaticsexpertsatASUsupportTI2.0participantsby:\\n● Providingdatafeedbackandbenchmarkingthroughpersonalizeddashboardsupdatedmonthly,\\n● EducatingTI2.0participantsonqualityimprovement(QI)strategiesandtechniques,\\n● Distributingbestpracticesandfacilitatingpeerlearning,\\n● AidingTI2.0participantswithimprovinginternalreportingprocessesandidentifyingareasfor\\nimprovement,\\n● AssistingwithonboardingnewstafftoTI2.0,\\n● AdaptingservicesandresourcestomeetTI2.0participants’needs,\\n● Maximizingtheopportunitytoachieveperformancemeasuretargets,and\\n● ProvidingContinuingEducation(CE)creditsforMedical,Nursing,Psychology,SocialWork,and\\nInterprofessionalcertifications.\\nTechnicalAssistance\\nTheTIPQICteamhasawidevarietyoftechnicalassistanceofferings,including,butnotlimitedto,QIC\\nmeetings,dataharmonization,performancedashboards,andcontinuedlearningsupport.Pleaseseebelow\\nforamoredetailedexplanationofeachoftheseefforts:\\n● QICMeetings\\n○ TheQualityImprovementCollaborative(QIC)MeetingsareawayforallTI2.0stakeholders\\ntomeetandconnect.ThesemeetingsprovideinformationaboutandupdatestoTI2.0\\nofferingsandinitiatives.ItisimportantforTIparticipatingorganizationstoattendthese\\nmeetingstostayup-to-dateonTI2.0happeningsandtoreceivefullcreditforincentive\\npayments.\\n● DataHarmonization\\n○ InterestedproviderscanworkwiththeTIPQICteamtoexamineAHCCCSmembersor\\nmemberhospitalizationeventseligibleforeachmeasureandattributedtotheirorganization\\nthroughamemberlistcomparison.Providerswillreceiveasummaryreportthatincludes\\nmember-leveldetailsforeachmeasureexplored.Resultswillhelpto:\\n■ Exploreandexplaindifferencesindenominatorsandperformancetoidentify\\nPage10\\nLastUpdated:April8,2024\\n'"
      ]
     },
     "execution_count": 8,
     "metadata": {},
     "output_type": "execute_result"
    }
   ],
   "source": [
    "from langchain_community.document_loaders import PDFPlumberLoader\n",
    "loader = PDFPlumberLoader(file_path)\n",
    "docs = loader.load()\n",
    "docs[-5].page_content"
   ]
  },
  {
   "cell_type": "markdown",
   "id": "2f0a13d1",
   "metadata": {},
   "source": [
    "## Mathpix"
   ]
  },
  {
   "cell_type": "code",
   "execution_count": 10,
   "id": "dd8f027b",
   "metadata": {},
   "outputs": [
    {
     "name": "stderr",
     "output_type": "stream",
     "text": [
      "c:\\Users\\vuthi\\OneDrive\\Local Disk(D)\\Coding\\TIPQIC-RAG-chatbot\\.rag_env\\Lib\\site-packages\\pypdfium2\\_helpers\\textpage.py:80: UserWarning: get_text_range() call with default params will be implicitly redirected to get_text_bounded()\n",
      "  warnings.warn(\"get_text_range() call with default params will be implicitly redirected to get_text_bounded()\")\n"
     ]
    },
    {
     "data": {
      "text/plain": [
       "'Targeted Investments (TI 2.0) Program\\nTargeted Investments Program: Quality Improvement Collaborative\\n(TIPQIC)\\nOverview\\nThe Targeted Investments Program Quality Improvement Collaborative (TIPQIC) is a collaboration between\\nthe AHCCCS Targeted Investments (TI 2.0) team and Arizona State University (ASU) with the goal of helping TI\\nparticipating organizations manage and improve their performance on incentivized measures. For more\\ninformation, please visit the TIPQIC website: tipqic.org. The TIPQIC team can be contacted by emailing\\nTIPQIC@asu.edu.\\nThe quality improvement, data science, and clinical informatics experts at ASU support TI 2.0 participants by:\\n● Providing data feedback and benchmarking through personalized dashboards updated monthly,\\n● Educating TI 2.0 participants on quality improvement (QI) strategies and techniques,\\n● Distributing best practices and facilitating peer learning,\\n● Aiding TI 2.0 participants with improving internal reporting processes and identifying areas for\\nimprovement,\\n● Assisting with onboarding new staff to TI 2.0,\\n● Adapting services and resources to meet TI 2.0 participants’ needs,\\n● Maximizing the opportunity to achieve performance measure targets, and\\n● Providing Continuing Education (CE) credits for Medical, Nursing, Psychology, Social Work, and\\nInterprofessional certifications.\\nTechnical Assistance\\nThe TIPQIC team has a wide variety of technical assistance offerings, including, but not limited to, QIC\\nmeetings, data harmonization, performance dashboards, and continued learning support. Please see below\\nfor a more detailed explanation of each of these efforts:\\n● QIC Meetings\\n○ The Quality Improvement Collaborative (QIC) Meetings are a way for all TI 2.0 stakeholders\\nto meet and connect. These meetings provide information about and updates to TI 2.0\\nofferings and initiatives. It is important for TI participating organizations to attend these\\nmeetings to stay up-to-date on TI 2.0 happenings and to receive full credit for incentive\\npayments.\\n● Data Harmonization\\n○ Interested providers can work with the TIPQIC team to examine AHCCCS members or\\nmember hospitalization events eligible for each measure and attributed to their organization\\nthrough a member list comparison. Providers will receive a summary report that includes\\nmember-level details for each measure explored. Results will help to:\\n■ Explore and explain differences in denominators and performance to identify\\nPage 10\\nLast Updated: April 8, 2024\\n'"
      ]
     },
     "execution_count": 10,
     "metadata": {},
     "output_type": "execute_result"
    }
   ],
   "source": [
    "from langchain_community.document_loaders import PyPDFium2Loader\n",
    "loader = PyPDFium2Loader(file_path)\n",
    "docs = loader.load()\n",
    "docs[-5].page_content"
   ]
  }
 ],
 "metadata": {
  "kernelspec": {
   "display_name": ".rag_env",
   "language": "python",
   "name": "python3"
  },
  "language_info": {
   "codemirror_mode": {
    "name": "ipython",
    "version": 3
   },
   "file_extension": ".py",
   "mimetype": "text/x-python",
   "name": "python",
   "nbconvert_exporter": "python",
   "pygments_lexer": "ipython3",
   "version": "3.11.2"
  }
 },
 "nbformat": 4,
 "nbformat_minor": 5
}
